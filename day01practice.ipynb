{
 "cells": [
  {
   "cell_type": "code",
   "execution_count": null,
   "metadata": {},
   "outputs": [],
   "source": [
    "def num_to_bin(n):\n",
    "    k=''\n",
    "    while n>0:\n",
    "        if n%2==0:\n",
    "            k = '0'+k\n",
    "            \n",
    "        else:\n",
    "            k = '1'+k\n",
    "        n=n//2\n",
    "    return (k)\n",
    "print(num_to_bin(10))\n",
    "l1=[1,2,3]\n",
    "l2=[4,5,6]\n",
    "l3=l1+l2\n",
    "l2.append(7)\n",
    "print(l2)\n",
    "print(l3)\n"
   ]
  },
  {
   "cell_type": "code",
   "execution_count": null,
   "metadata": {},
   "outputs": [],
   "source": [
    "def factor(n):\n",
    "    l=[]\n",
    "    for i in range(1,n+1):\n",
    "        if n%i==0:\n",
    "            l.append(i)\n",
    "    return(l)\n",
    "print(factor(24))\n"
   ]
  },
  {
   "cell_type": "code",
   "execution_count": null,
   "metadata": {},
   "outputs": [],
   "source": [
    "def vowels(s):\n",
    "    s1=''\n",
    "    L=['a','e','i','o','u']\n",
    "    for i in s.lower():\n",
    "        if i not in L:\n",
    "            s1=s1+i\n",
    "    R=[x for x in s.lower() if x not in L]\n",
    "    print(R)\n",
    "    return(s1)\n",
    "    \n",
    "print(vowels(\"Supriya\"))"
   ]
  },
  {
   "cell_type": "code",
   "execution_count": null,
   "metadata": {},
   "outputs": [],
   "source": [
    "def roman_numeral(n):\n",
    "    num_list = [1, 4, 5, 9, 10, 40, 50, 90,\n",
    "        100]\n",
    "    roman_list = [\"I\", \"IV\", \"V\", \"IX\", \"X\", \"XL\",\n",
    "        \"L\", \"XC\", \"C\"]\n",
    "    s=''\n",
    "    for i in range(0,len(num_list):\n",
    "        if n<i:\n",
    "            s=s+roman_list[i]\n",
    "    print(s)\n",
    "    \n",
    "print(roman_numeral(7))"
   ]
  },
  {
   "cell_type": "code",
   "execution_count": null,
   "metadata": {},
   "outputs": [],
   "source": [
    "w = 'lennon, john'\n",
    "x = 'harrison, george'\n",
    "y = 'starr, ringo'\n",
    "z = 'mccartney, paul'\n",
    "L=[w,x,y,z]\n",
    "\n",
    "\n",
    "for i in L:\n",
    "    if \"mccartney\" in i:\n",
    "        x=i.split(', ')[0]\n",
    "        print((x[0:2]+x[2].upper()+x[3:])+\" \"+(i.split(', ')[1]).capitalize())\n",
    "    else:\n",
    "        print((i.split(', ')[1]).capitalize()+\" \"+(i.split(', ')[0]).capitalize())"
   ]
  }
 ],
 "metadata": {
  "language_info": {
   "name": "python"
  }
 },
 "nbformat": 4,
 "nbformat_minor": 2
}
